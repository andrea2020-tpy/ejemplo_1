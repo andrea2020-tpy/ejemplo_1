{
  "nbformat": 4,
  "nbformat_minor": 0,
  "metadata": {
    "colab": {
      "name": "Nodos_ej2_MC_Calbi.ipynb",
      "provenance": [],
      "collapsed_sections": [],
      "authorship_tag": "ABX9TyOWOXeFsCQk5XL2pPOyhcO4",
      "include_colab_link": true
    },
    "kernelspec": {
      "name": "python3",
      "display_name": "Python 3"
    }
  },
  "cells": [
    {
      "cell_type": "markdown",
      "metadata": {
        "id": "view-in-github",
        "colab_type": "text"
      },
      "source": [
        "<a href=\"https://colab.research.google.com/github/andrea2020-tpy/ejemplo_1/blob/master/Nodos_ej2_MC_Calbi.ipynb\" target=\"_parent\"><img src=\"https://colab.research.google.com/assets/colab-badge.svg\" alt=\"Open In Colab\"/></a>"
      ]
    },
    {
      "cell_type": "markdown",
      "metadata": {
        "id": "8a-xSYHLLhQV",
        "colab_type": "text"
      },
      "source": [
        "# Ejercicio N°2 \n",
        "## Parte (a)\n",
        "### Dimensionamiento de tubo cuadrado para una **tensión admisible de 2600 kg/cm^2**"
      ]
    },
    {
      "cell_type": "markdown",
      "metadata": {
        "id": "pQkS-rElLeU3",
        "colab_type": "text"
      },
      "source": [
        "Librerías a utilizar:\n"
      ]
    },
    {
      "cell_type": "code",
      "metadata": {
        "id": "GYclKGAyLZza",
        "colab_type": "code",
        "colab": {}
      },
      "source": [
        "import numpy as np"
      ],
      "execution_count": null,
      "outputs": []
    },
    {
      "cell_type": "markdown",
      "metadata": {
        "id": "r8GOxbyPX52n",
        "colab_type": "text"
      },
      "source": [
        "- Defino la función \"sección_barra\" y la uso para los distintos tipos de fuerzas que hay.\n",
        "\n"
      ]
    },
    {
      "cell_type": "code",
      "metadata": {
        "id": "XiaDbwdHLLl3",
        "colab_type": "code",
        "colab": {}
      },
      "source": [
        "def seccion_barra (f): # Función1, variable = F (fuerza en barra)\n",
        "  secbarra = round((f / 2600),2)\n",
        "  print('La sección de la barras con la fuerza de '+ str(f) + ' N debe ser de ' + str(secbarra) + ' cm^2')"
      ],
      "execution_count": null,
      "outputs": []
    },
    {
      "cell_type": "markdown",
      "metadata": {
        "id": "E9M0sagcYF1i",
        "colab_type": "text"
      },
      "source": [
        "- Se cargan los valores de las fuerzas no nulas\n"
      ]
    },
    {
      "cell_type": "code",
      "metadata": {
        "id": "gPNB3H1bNU4J",
        "colab_type": "code",
        "colab": {}
      },
      "source": [
        "f13 = 9806.65 \n",
        "f24 = 9806.65\n",
        "f46 = 9882.97\n",
        "f43 = 1225.83 \n",
        "f35 = 9882.97\n",
        "f56 = 1225.83\n",
        "f57 = 9806.65\n",
        "f68 = 9806.65\n",
        "f1612 = 21928.4\n",
        "f1614 = 19614.2 \n",
        "f1410 = 19614.2\n",
        "f128 = 21928.4 \n",
        "f87 = 19614.2\n",
        "f109 = 19614.2\n",
        "f711 = 21928.4 \n",
        "f913 = 19614.2\n",
        "f1213 = 19614.2\n",
        "f1115 = 21928.4"
      ],
      "execution_count": null,
      "outputs": []
    },
    {
      "cell_type": "markdown",
      "metadata": {
        "id": "JwgAAPzuYL0S",
        "colab_type": "text"
      },
      "source": [
        "- Se utiliza la función para  los distintos valores de fuerzas definidos (9806.65 N, 9882.97 N, 1225. 83 N, 21928.4 N, 19614.2 N) \n",
        "\n",
        "\n"
      ]
    },
    {
      "cell_type": "code",
      "metadata": {
        "id": "D2RcFqt7NLE9",
        "colab_type": "code",
        "colab": {
          "base_uri": "https://localhost:8080/",
          "height": 106
        },
        "outputId": "d92922fe-e225-4568-883a-07e4be37530b"
      },
      "source": [
        "seccion_barra(f13)\n",
        "seccion_barra(f46)\n",
        "seccion_barra(f43)\n",
        "seccion_barra(f1612)\n",
        "seccion_barra(f1614)"
      ],
      "execution_count": null,
      "outputs": [
        {
          "output_type": "stream",
          "text": [
            "La sección de la barras con la fuerza de 9806.65 N debe ser de 3.77 cm^2\n",
            "La sección de la barras con la fuerza de 9882.97 N debe ser de 3.8 cm^2\n",
            "La sección de la barras con la fuerza de 1225.83 N debe ser de 0.47 cm^2\n",
            "La sección de la barras con la fuerza de 21928.4 N debe ser de 8.43 cm^2\n",
            "La sección de la barras con la fuerza de 19614.2 N debe ser de 7.54 cm^2\n"
          ],
          "name": "stdout"
        }
      ]
    }
  ]
}